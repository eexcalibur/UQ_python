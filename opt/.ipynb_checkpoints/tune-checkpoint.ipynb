{
 "cells": [
  {
   "cell_type": "code",
   "execution_count": 65,
   "metadata": {},
   "outputs": [],
   "source": [
    "import numpy as np\n",
    "import matplotlib.pyplot as plt\n",
    "import os\n",
    "import time\n",
    "from loguru import logger\n",
    "from scipy.optimize import minimize\n",
    "from netCDF4 import Dataset"
   ]
  },
  {
   "cell_type": "code",
   "execution_count": 2,
   "metadata": {},
   "outputs": [],
   "source": [
    "base_path=\"/home/tzhang/wrf_solar/wsolar412_bnl/runwrf_tune\"\n",
    "archive_path = \"/S2/gscr2/tzhang/big_data/UQ/tune/\"\n",
    "para_names = ['vdis','beta_con']\n",
    "os.chdir(base_path)"
   ]
  },
  {
   "cell_type": "code",
   "execution_count": 6,
   "metadata": {},
   "outputs": [],
   "source": [
    "def delete_all_case():\n",
    "    os.system(\"rm -rf \"+archive_path+\"/Iter*\")"
   ]
  },
  {
   "cell_type": "markdown",
   "metadata": {},
   "source": [
    "# check bounds"
   ]
  },
  {
   "cell_type": "code",
   "execution_count": 58,
   "metadata": {},
   "outputs": [
    {
     "name": "stdout",
     "output_type": "stream",
     "text": [
      "{'vdis': 1.4, 'beta_con': 1.02e+20}\n"
     ]
    }
   ],
   "source": [
    "para_bounds = {\n",
    "    'vdis':[0.01,1.4],\n",
    "    'beta_con':[1.02E20, 1.67e24]\n",
    "}\n",
    "\n",
    "def check_bounds(x):\n",
    "    nx = len(x)\n",
    "    nb = len(para_bounds)\n",
    "    \n",
    "    if nx != nb:\n",
    "        raise SystemExit('shape of input parameters should be consistent with the bounds!')\n",
    "    \n",
    "    for key in x:\n",
    "        x[key] = x[key] if x[key] > para_bounds[key][0] else para_bounds[key][0]\n",
    "        x[key] = x[key] if x[key] < para_bounds[key][1] else para_bounds[key][1]\n",
    "\n",
    "    return x\n",
    "\n",
    "x = {'vdis':1.5, 'beta_con':0.2}\n",
    "aa = check_bounds(x)\n",
    "\n",
    "print(aa)"
   ]
  },
  {
   "cell_type": "markdown",
   "metadata": {},
   "source": [
    "# calc metrics"
   ]
  },
  {
   "cell_type": "code",
   "execution_count": 72,
   "metadata": {},
   "outputs": [
    {
     "data": {
      "text/plain": [
       "1.0"
      ]
     },
     "execution_count": 72,
     "metadata": {},
     "output_type": "execute_result"
    }
   ],
   "source": [
    "def calc_metrics(path_mod):\n",
    "    var_list = ['dni','dhi'] # dni: direct normal irradiance DHI: diffuse horizontal irradiance\n",
    "    varn_obs = ['obs_swddni', 'obs_swddif']\n",
    "    varn_mod = ['SWDDNI','SWDDIF']\n",
    "    \n",
    "    path_base = \"/ss/hsdc/home/tzhang/wrf_solar/\"\n",
    "    path_obs = path_base+\"sgpradflux10long_area_mean.c1.20160619_1200UTC.nc\"\n",
    "    path_def = \"/S2/gscr2/tzhang/big_data/UQ/tune/runwrf_def/wrfout_d02_2016-06-19_06:00:00\"\n",
    "    \n",
    "    fid_obs = Dataset(path_obs)\n",
    "    fid_def = Dataset(path_def)\n",
    "    fid_mod = Dataset(path_mod)\n",
    "    \n",
    "    Chi = 0\n",
    "    for i, var in enumerate(var_list):\n",
    "        #print(var)\n",
    "        \n",
    "        var_obs = fid_obs.variables[varn_obs[i]][:]\n",
    "        var_mod = fid_mod.variables[varn_mod[i]][36:]\n",
    "        var_def = fid_def.variables[varn_mod[i]][36:]\n",
    "        \n",
    "        var_mod_avg = np.mean(var_mod, axis=(1,2))\n",
    "        var_def_avg = np.mean(var_def, axis=(1,2))\n",
    "        \n",
    "        #print(var_obs.shape)\n",
    "        #print(var_mod_avg.shape)\n",
    "        #print(var_def_avg.shape)\n",
    "        \n",
    "        theta_mod = 0\n",
    "        for j in range(var_obs.shape[0]):\n",
    "            theta_mod += (var_obs[j] - var_mod_avg[j]) ** 2\n",
    "            \n",
    "        theta_def = 0\n",
    "        for j in range(var_obs.shape[0]):\n",
    "            theta_def += (var_obs[j] - var_def_avg[j]) ** 2\n",
    "            \n",
    "        Chi += (theta_mod / theta_def)\n",
    "        \n",
    "    Chi /= len(var_list)\n",
    "    \n",
    "    return Chi\n",
    "            \n",
    "        \n",
    "        \n",
    "#calc_metrics(\"/S2/gscr2/tzhang/big_data/UQ/sampling/case0/wrfout_d02_2016-06-19_06:00:00\")\n",
    "calc_metrics(\"/S2/gscr2/tzhang/big_data/UQ/tune/runwrf_def/wrfout_d02_2016-06-19_06:00:00\")"
   ]
  },
  {
   "cell_type": "markdown",
   "metadata": {},
   "source": [
    "# run case"
   ]
  },
  {
   "cell_type": "code",
   "execution_count": 83,
   "metadata": {},
   "outputs": [
    {
     "name": "stderr",
     "output_type": "stream",
     "text": [
      "2021-02-20 02:29:46.924 | INFO     | __main__:run_case:20 - Iter0: modifiy namelist\n",
      "2021-02-20 02:29:47.014 | INFO     | __main__:run_case:26 - Iter0: run model\n",
      "2021-02-20 02:30:17.048 | INFO     | __main__:run_case:34 - Iter0: archive case\n",
      "2021-02-20 02:30:43.684 | INFO     | __main__:run_case:39 - case0: success!!!\n"
     ]
    }
   ],
   "source": [
    "ite = -1\n",
    "\n",
    "def run_case(x):\n",
    "    global ite\n",
    "    ite = ite + 1 \n",
    "    \n",
    "    # check parameter bound\n",
    "    x = check_bounds(x)\n",
    "    \n",
    "    # modify namelist\n",
    "    logger.info(\"Iter\"+str(ite)+\": modifiy namelist\")\n",
    "    for key in x:\n",
    "        replace_str = \"sed -i '/^ \"+key+\"/c\\ \"+key+\"=\"+str(x[key])+\"' namelist.input\"\n",
    "        os.system(replace_str)\n",
    "\n",
    "    # run model\n",
    "    logger.info(\"Iter\"+str(ite)+\": run model\")\n",
    "    time.sleep(30)\n",
    "    #jid = os.popen(\"qsub runwrf.sh\").read().split('.')[0]\n",
    "    #print(jid)\n",
    "    #while os.popen(\"qstat\").read().find(jid) != -1:\n",
    "    #    time.sleep(300)\n",
    "\n",
    "    #archive case\n",
    "    logger.info(\"Iter\"+str(ite)+\": archive case\")\n",
    "    os.system(\"mkdir -p \"+archive_path+\"/Iter\"+str(ite))\n",
    "    os.system(\"cp namelist.input \"+archive_path+\"/Iter\"+str(ite))\n",
    "    os.system(\"cp wrfout_* \"+archive_path+\"/Iter\"+str(ite))\n",
    "    \n",
    "    logger.info(\"case\"+str(ite)+\": success!!!\")\n",
    "    #logger.remove()\n",
    "    \n",
    "def run_case_wrapper(x):\n",
    "    paras = {}\n",
    "    \n",
    "    for i,key in enumerate(para_names):\n",
    "        paras[key] = x[i]\n",
    "        \n",
    "    mcpi = run_case(paras)\n",
    "    return mcpi"
   ]
  },
  {
   "cell_type": "code",
   "execution_count": 80,
   "metadata": {},
   "outputs": [
    {
     "name": "stdout",
     "output_type": "stream",
     "text": [
      "Optimization terminated successfully.\n",
      "         Current function value: 0.000000\n",
      "         Iterations: 150\n",
      "         Function evaluations: 270\n"
     ]
    }
   ],
   "source": [
    "x0 = np.array([1.311735, 1.1281180989999998e+24])\n",
    "\n",
    "res = minimize(run_case_wrapper, x0, method='nelder-mead',\n",
    "               options={'xatol': 1e-8, 'disp': True, 'return_all':True})"
   ]
  },
  {
   "cell_type": "code",
   "execution_count": null,
   "metadata": {},
   "outputs": [],
   "source": []
  }
 ],
 "metadata": {
  "kernelspec": {
   "display_name": "luffy",
   "language": "python",
   "name": "luffy"
  },
  "language_info": {
   "codemirror_mode": {
    "name": "ipython",
    "version": 3
   },
   "file_extension": ".py",
   "mimetype": "text/x-python",
   "name": "python",
   "nbconvert_exporter": "python",
   "pygments_lexer": "ipython3",
   "version": "3.8.6"
  },
  "toc-autonumbering": true
 },
 "nbformat": 4,
 "nbformat_minor": 4
}
