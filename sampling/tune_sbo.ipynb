{
 "cells": [
  {
   "cell_type": "code",
   "execution_count": 33,
   "metadata": {},
   "outputs": [],
   "source": [
    "import logging\n",
    "import os.path\n",
    "from netCDF4 import Dataset\n",
    "\n",
    "import numpy as np\n",
    "from poap.controller import BasicWorkerThread, ThreadController\n",
    "\n",
    "from pySOT.experimental_design import SymmetricLatinHypercube, LatinHypercube\n",
    "from pySOT.optimization_problems import Hartmann6\n",
    "from pySOT.strategy import EIStrategy\n",
    "from pySOT.surrogate import GPRegressor\n",
    "\n",
    "from pySOT.optimization_problems import OptimizationProblem"
   ]
  },
  {
   "cell_type": "code",
   "execution_count": 20,
   "metadata": {},
   "outputs": [],
   "source": [
    "class climate_problem(OptimizationProblem):\n",
    "    def __init__(self):\n",
    "        self.min = 0\n",
    "        self.minimum = np.array([0.0,0.0])\n",
    "        self.dim = 2\n",
    "        self.lb = np.array([0.01,1.02E20])\n",
    "        self.ub = np.array([1.4, 1.67e24])\n",
    "        self.int_var = np.array([])\n",
    "        self.cont_var = np.arange(0,2)\n",
    "        self.para_names = ['vdis','beta_con']\n",
    "        self.info = (\"wrf solar\")\n",
    "        self.iteration = -1\n",
    "        self.archive_path = \"/S2/gscr2/tzhang/big_data/UQ/tune2/\"\n",
    "        \n",
    "    def eval(self, x):\n",
    "        paras = {}\n",
    "        \n",
    "        for i,key in enumerate(self.para_names):\n",
    "            paras[key] = x[i]\n",
    "            \n",
    "        mcpi = self.run_case(paras)\n",
    "        return mcpi\n",
    "    \n",
    "    def run_case(self, x):\n",
    "        self.iteration = self.iteration + 1\n",
    "\n",
    "        # modify namelist\n",
    "        for key in x:\n",
    "            replace_str = \"sed -i '/^ \"+key+\"/c\\ \"+key+\"=\"+str(x[key])+\"' namelist.input\"\n",
    "            os.system(replace_str)\n",
    "\n",
    "        # run model\n",
    "        jid = os.popen(\"qsub runwrf.sh\").read().split('.')[0]\n",
    "        #print(jid)\n",
    "        while os.popen(\"qstat\").read().find(jid) != -1:\n",
    "            time.sleep(300)\n",
    "\n",
    "        mcpi = self.calc_metrics(\"/home/tzhang/wrf_solar/wsolar412_bnl/runwrf_tune/wrfout_d02_2016-06-19_06:00:00\")\n",
    "\n",
    "        #archive case\n",
    "        os.system(\"mkdir -p \"+archive_path+\"/Iter\"+str(ite))\n",
    "        os.system(\"cp namelist.input \"+archive_path+\"/Iter\"+str(ite))\n",
    "        os.system(\"cp wrfout_* \"+archive_path+\"/Iter\"+str(ite))\n",
    "\n",
    "        return mcpi\n",
    "    \n",
    "    def calc_metrics(self, path_mod):\n",
    "        var_list = ['dni','dhi'] # dni: direct normal irradiance DHI: diffuse horizontal irradiance\n",
    "        varn_obs = ['obs_swddni', 'obs_swddif']\n",
    "        varn_mod = ['SWDDNI','SWDDIF']\n",
    "\n",
    "        path_base = \"/ss/hsdc/home/tzhang/wrf_solar/\"\n",
    "        path_obs = path_base+\"sgpradflux10long_area_mean.c1.20160619_1200UTC.nc\"\n",
    "        path_def = \"/S2/gscr2/tzhang/big_data/UQ/tune/runwrf_def/wrfout_d02_2016-06-19_06:00:00\"\n",
    "\n",
    "        fid_obs = Dataset(path_obs)\n",
    "        fid_def = Dataset(path_def)\n",
    "        fid_mod = Dataset(path_mod)\n",
    "\n",
    "        Chi = 0\n",
    "        for i, var in enumerate(var_list):\n",
    "            #print(var)\n",
    "\n",
    "            var_obs = fid_obs.variables[varn_obs[i]][:]\n",
    "            var_mod = fid_mod.variables[varn_mod[i]][36:]\n",
    "            var_def = fid_def.variables[varn_mod[i]][36:]\n",
    "\n",
    "            var_mod_avg = np.mean(var_mod, axis=(1,2))\n",
    "            var_def_avg = np.mean(var_def, axis=(1,2))\n",
    "\n",
    "            #print(var_obs.shape)\n",
    "            #print(var_mod_avg.shape)\n",
    "            #print(var_def_avg.shape)\n",
    "\n",
    "            theta_mod = 0\n",
    "            for j in range(var_obs.shape[0]):\n",
    "                theta_mod += (var_obs[j] - var_mod_avg[j]) ** 2\n",
    "\n",
    "            theta_def = 0\n",
    "            for j in range(var_obs.shape[0]):\n",
    "                theta_def += (var_obs[j] - var_def_avg[j]) ** 2\n",
    "\n",
    "            Chi += (theta_mod / theta_def)\n",
    "\n",
    "        Chi /= len(var_list)\n",
    "\n",
    "        return Chi\n",
    "        "
   ]
  },
  {
   "cell_type": "code",
   "execution_count": 35,
   "metadata": {},
   "outputs": [
    {
     "name": "stdout",
     "output_type": "stream",
     "text": [
      "2 [1.00e-02 1.02e+20] [1.40e+00 1.67e+24]\n"
     ]
    },
    {
     "ename": "ValueError",
     "evalue": "No valid design found, increase num_pts?",
     "output_type": "error",
     "traceback": [
      "\u001b[0;31m---------------------------------------------------------------------------\u001b[0m",
      "\u001b[0;31mValueError\u001b[0m                                Traceback (most recent call last)",
      "\u001b[0;32m<ipython-input-35-7d4c661c11c5>\u001b[0m in \u001b[0;36m<module>\u001b[0;34m\u001b[0m\n\u001b[1;32m     11\u001b[0m \u001b[0;31m# Create a strategy and a controller\u001b[0m\u001b[0;34m\u001b[0m\u001b[0;34m\u001b[0m\u001b[0;34m\u001b[0m\u001b[0m\n\u001b[1;32m     12\u001b[0m \u001b[0mcontroller\u001b[0m \u001b[0;34m=\u001b[0m \u001b[0mThreadController\u001b[0m\u001b[0;34m(\u001b[0m\u001b[0;34m)\u001b[0m\u001b[0;34m\u001b[0m\u001b[0;34m\u001b[0m\u001b[0m\n\u001b[0;32m---> 13\u001b[0;31m controller.strategy = EIStrategy(\n\u001b[0m\u001b[1;32m     14\u001b[0m     \u001b[0mmax_evals\u001b[0m\u001b[0;34m=\u001b[0m\u001b[0mmax_evals\u001b[0m\u001b[0;34m,\u001b[0m \u001b[0mopt_prob\u001b[0m\u001b[0;34m=\u001b[0m\u001b[0mwrf\u001b[0m\u001b[0;34m,\u001b[0m \u001b[0mexp_design\u001b[0m\u001b[0;34m=\u001b[0m\u001b[0mslhd\u001b[0m\u001b[0;34m,\u001b[0m \u001b[0msurrogate\u001b[0m\u001b[0;34m=\u001b[0m\u001b[0mgp\u001b[0m\u001b[0;34m,\u001b[0m \u001b[0masynchronous\u001b[0m\u001b[0;34m=\u001b[0m\u001b[0;32mTrue\u001b[0m\u001b[0;34m\u001b[0m\u001b[0;34m\u001b[0m\u001b[0m\n\u001b[1;32m     15\u001b[0m )\n",
      "\u001b[0;32m~/soft/miniconda3/envs/luffy/lib/python3.8/site-packages/pySOT/strategy/ei_strategy.py\u001b[0m in \u001b[0;36m__init__\u001b[0;34m(self, max_evals, opt_prob, exp_design, surrogate, asynchronous, batch_size, extra_points, extra_vals, use_restarts, ei_tol, dtol)\u001b[0m\n\u001b[1;32m     84\u001b[0m         \u001b[0mself\u001b[0m\u001b[0;34m.\u001b[0m\u001b[0mei_tol\u001b[0m \u001b[0;34m=\u001b[0m \u001b[0mei_tol\u001b[0m\u001b[0;34m\u001b[0m\u001b[0;34m\u001b[0m\u001b[0m\n\u001b[1;32m     85\u001b[0m \u001b[0;34m\u001b[0m\u001b[0m\n\u001b[0;32m---> 86\u001b[0;31m         super().__init__(\n\u001b[0m\u001b[1;32m     87\u001b[0m             \u001b[0mmax_evals\u001b[0m\u001b[0;34m=\u001b[0m\u001b[0mmax_evals\u001b[0m\u001b[0;34m,\u001b[0m\u001b[0;34m\u001b[0m\u001b[0;34m\u001b[0m\u001b[0m\n\u001b[1;32m     88\u001b[0m             \u001b[0mopt_prob\u001b[0m\u001b[0;34m=\u001b[0m\u001b[0mopt_prob\u001b[0m\u001b[0;34m,\u001b[0m\u001b[0;34m\u001b[0m\u001b[0;34m\u001b[0m\u001b[0m\n",
      "\u001b[0;32m~/soft/miniconda3/envs/luffy/lib/python3.8/site-packages/pySOT/strategy/surrogate_strategy.py\u001b[0m in \u001b[0;36m__init__\u001b[0;34m(self, max_evals, opt_prob, exp_design, surrogate, asynchronous, batch_size, extra_points, extra_vals, use_restarts)\u001b[0m\n\u001b[1;32m    138\u001b[0m \u001b[0;34m\u001b[0m\u001b[0m\n\u001b[1;32m    139\u001b[0m         \u001b[0;31m# Start with first experimental design\u001b[0m\u001b[0;34m\u001b[0m\u001b[0;34m\u001b[0m\u001b[0;34m\u001b[0m\u001b[0m\n\u001b[0;32m--> 140\u001b[0;31m         \u001b[0mself\u001b[0m\u001b[0;34m.\u001b[0m\u001b[0msample_initial\u001b[0m\u001b[0;34m(\u001b[0m\u001b[0;34m)\u001b[0m\u001b[0;34m\u001b[0m\u001b[0;34m\u001b[0m\u001b[0m\n\u001b[0m\u001b[1;32m    141\u001b[0m \u001b[0;34m\u001b[0m\u001b[0m\n\u001b[1;32m    142\u001b[0m     \u001b[0;32mdef\u001b[0m \u001b[0mget_ev\u001b[0m\u001b[0;34m(\u001b[0m\u001b[0mself\u001b[0m\u001b[0;34m)\u001b[0m\u001b[0;34m:\u001b[0m\u001b[0;34m\u001b[0m\u001b[0;34m\u001b[0m\u001b[0m\n",
      "\u001b[0;32m~/soft/miniconda3/envs/luffy/lib/python3.8/site-packages/pySOT/strategy/surrogate_strategy.py\u001b[0m in \u001b[0;36msample_initial\u001b[0;34m(self)\u001b[0m\n\u001b[1;32m    228\u001b[0m \u001b[0;34m\u001b[0m\u001b[0m\n\u001b[1;32m    229\u001b[0m         \u001b[0;31m# NB: Experimental designs can now handle the mapping\u001b[0m\u001b[0;34m\u001b[0m\u001b[0;34m\u001b[0m\u001b[0;34m\u001b[0m\u001b[0m\n\u001b[0;32m--> 230\u001b[0;31m         start_sample = self.exp_design.generate_points(\n\u001b[0m\u001b[1;32m    231\u001b[0m             \u001b[0mlb\u001b[0m\u001b[0;34m=\u001b[0m\u001b[0mself\u001b[0m\u001b[0;34m.\u001b[0m\u001b[0mopt_prob\u001b[0m\u001b[0;34m.\u001b[0m\u001b[0mlb\u001b[0m\u001b[0;34m,\u001b[0m \u001b[0mub\u001b[0m\u001b[0;34m=\u001b[0m\u001b[0mself\u001b[0m\u001b[0;34m.\u001b[0m\u001b[0mopt_prob\u001b[0m\u001b[0;34m.\u001b[0m\u001b[0mub\u001b[0m\u001b[0;34m,\u001b[0m \u001b[0mint_var\u001b[0m\u001b[0;34m=\u001b[0m\u001b[0mself\u001b[0m\u001b[0;34m.\u001b[0m\u001b[0mopt_prob\u001b[0m\u001b[0;34m.\u001b[0m\u001b[0mint_var\u001b[0m\u001b[0;34m\u001b[0m\u001b[0;34m\u001b[0m\u001b[0m\n\u001b[1;32m    232\u001b[0m         )\n",
      "\u001b[0;32m~/soft/miniconda3/envs/luffy/lib/python3.8/site-packages/pySOT/experimental_design/lhd.py\u001b[0m in \u001b[0;36mgenerate_points\u001b[0;34m(self, lb, ub, int_var)\u001b[0m\n\u001b[1;32m     55\u001b[0m             \u001b[0;32mreturn\u001b[0m \u001b[0mpydoe\u001b[0m\u001b[0;34m.\u001b[0m\u001b[0mlhs\u001b[0m\u001b[0;34m(\u001b[0m\u001b[0mself\u001b[0m\u001b[0;34m.\u001b[0m\u001b[0mdim\u001b[0m\u001b[0;34m,\u001b[0m \u001b[0mself\u001b[0m\u001b[0;34m.\u001b[0m\u001b[0mnum_pts\u001b[0m\u001b[0;34m,\u001b[0m \u001b[0miterations\u001b[0m\u001b[0;34m=\u001b[0m\u001b[0;36m1\u001b[0m\u001b[0;34m)\u001b[0m\u001b[0;34m\u001b[0m\u001b[0;34m\u001b[0m\u001b[0m\n\u001b[1;32m     56\u001b[0m \u001b[0;34m\u001b[0m\u001b[0m\n\u001b[0;32m---> 57\u001b[0;31m         \u001b[0;32mreturn\u001b[0m \u001b[0m_expdes_dist\u001b[0m\u001b[0;34m(\u001b[0m\u001b[0mwrapper\u001b[0m\u001b[0;34m,\u001b[0m \u001b[0mself\u001b[0m\u001b[0;34m.\u001b[0m\u001b[0miterations\u001b[0m\u001b[0;34m,\u001b[0m \u001b[0mlb\u001b[0m\u001b[0;34m,\u001b[0m \u001b[0mub\u001b[0m\u001b[0;34m,\u001b[0m \u001b[0mint_var\u001b[0m\u001b[0;34m)\u001b[0m\u001b[0;34m\u001b[0m\u001b[0;34m\u001b[0m\u001b[0m\n\u001b[0m",
      "\u001b[0;32m~/soft/miniconda3/envs/luffy/lib/python3.8/site-packages/pySOT/experimental_design/experimental_design.py\u001b[0m in \u001b[0;36m_expdes_dist\u001b[0;34m(gen, iterations, lb, ub, int_var)\u001b[0m\n\u001b[1;32m     74\u001b[0m \u001b[0;34m\u001b[0m\u001b[0m\n\u001b[1;32m     75\u001b[0m     \u001b[0;32mif\u001b[0m \u001b[0mX\u001b[0m \u001b[0;32mis\u001b[0m \u001b[0;32mNone\u001b[0m\u001b[0;34m:\u001b[0m\u001b[0;34m\u001b[0m\u001b[0;34m\u001b[0m\u001b[0m\n\u001b[0;32m---> 76\u001b[0;31m         \u001b[0;32mraise\u001b[0m \u001b[0mValueError\u001b[0m\u001b[0;34m(\u001b[0m\u001b[0;34m\"No valid design found, increase num_pts?\"\u001b[0m\u001b[0;34m)\u001b[0m\u001b[0;34m\u001b[0m\u001b[0;34m\u001b[0m\u001b[0m\n\u001b[0m\u001b[1;32m     77\u001b[0m     \u001b[0;32mreturn\u001b[0m \u001b[0mX\u001b[0m\u001b[0;34m\u001b[0m\u001b[0;34m\u001b[0m\u001b[0m\n",
      "\u001b[0;31mValueError\u001b[0m: No valid design found, increase num_pts?"
     ]
    }
   ],
   "source": [
    "num_threads = 10\n",
    "max_evals = 200\n",
    "\n",
    "wrf = climate_problem()\n",
    "#wrf = Hartmann6()\n",
    "print(wrf.dim,wrf.lb,wrf.ub)\n",
    "\n",
    "gp = GPRegressor(dim=wrf.dim, lb=wrf.lb, ub=wrf.ub)\n",
    "slhd = LatinHypercube(dim=wrf.dim, num_pts=3)\n",
    "\n",
    "# Create a strategy and a controller\n",
    "controller = ThreadController()\n",
    "controller.strategy = EIStrategy(\n",
    "    max_evals=max_evals, opt_prob=wrf, exp_design=slhd, surrogate=gp, asynchronous=True\n",
    ")\n",
    "\n",
    "# print(\"Number of threads: {}\".format(num_threads))\n",
    "# print(\"Maximum number of evaluations: {}\".format(max_evals))\n",
    "# print(\"Strategy: {}\".format(controller.strategy.__class__.__name__))\n",
    "# print(\"Experimental design: {}\".format(slhd.__class__.__name__))\n",
    "# print(\"Surrogate: {}\".format(gp.__class__.__name__))\n",
    "\n",
    "# # Launch the threads and give them access to the objective function\n",
    "# for _ in range(num_threads):\n",
    "#     worker = BasicWorkerThread(controller, hart6.eval)\n",
    "#     controller.launch_worker(worker)\n",
    "\n",
    "# # Run the optimization strategy\n",
    "# result = controller.run()\n",
    "\n",
    "# print(\"Best value found: {0}\".format(result.value))\n",
    "# print(\n",
    "#     \"Best solution found: {0}\\n\".format(\n",
    "#         np.array_str(result.params[0], max_line_width=np.inf, precision=5, suppress_small=True)\n",
    "#     )\n",
    "# )\n",
    "    \n"
   ]
  },
  {
   "cell_type": "code",
   "execution_count": 12,
   "metadata": {},
   "outputs": [
    {
     "name": "stdout",
     "output_type": "stream",
     "text": [
      "6 [0. 0. 0. 0. 0. 0.] [1. 1. 1. 1. 1. 1.]\n"
     ]
    }
   ],
   "source": [
    "hart6 = Hartmann6()\n",
    "print(hart6.dim, hart6.lb, hart6.ub)"
   ]
  },
  {
   "cell_type": "code",
   "execution_count": 6,
   "metadata": {},
   "outputs": [
    {
     "name": "stdout",
     "output_type": "stream",
     "text": [
      "(array([3.99977194e-01, 8.81107545e-01, 9.15603147e-01, 5.71582306e-01,\n",
      "       1.05019138e-01, 1.50607404e-08]),)\n"
     ]
    }
   ],
   "source": [
    "print(result.params)"
   ]
  },
  {
   "cell_type": "code",
   "execution_count": 7,
   "metadata": {},
   "outputs": [
    {
     "data": {
      "text/plain": [
       "['__class__',\n",
       " '__delattr__',\n",
       " '__dict__',\n",
       " '__dir__',\n",
       " '__doc__',\n",
       " '__eq__',\n",
       " '__format__',\n",
       " '__ge__',\n",
       " '__getattribute__',\n",
       " '__gt__',\n",
       " '__hash__',\n",
       " '__init__',\n",
       " '__init_subclass__',\n",
       " '__le__',\n",
       " '__lt__',\n",
       " '__module__',\n",
       " '__ne__',\n",
       " '__new__',\n",
       " '__reduce__',\n",
       " '__reduce_ex__',\n",
       " '__repr__',\n",
       " '__setattr__',\n",
       " '__sizeof__',\n",
       " '__str__',\n",
       " '__subclasshook__',\n",
       " '__weakref__',\n",
       " '_status',\n",
       " 'add_callback',\n",
       " 'callbacks',\n",
       " 'cancel',\n",
       " 'complete',\n",
       " 'ev_id',\n",
       " 'extra_args',\n",
       " 'is_cancelled',\n",
       " 'is_completed',\n",
       " 'is_done',\n",
       " 'is_killed',\n",
       " 'is_pending',\n",
       " 'is_running',\n",
       " 'kill',\n",
       " 'params',\n",
       " 'remove_callback',\n",
       " 'running',\n",
       " 'status',\n",
       " 'update',\n",
       " 'update_dict',\n",
       " 'value',\n",
       " 'worker']"
      ]
     },
     "execution_count": 7,
     "metadata": {},
     "output_type": "execute_result"
    }
   ],
   "source": [
    "dir(result)"
   ]
  },
  {
   "cell_type": "code",
   "execution_count": 10,
   "metadata": {},
   "outputs": [
    {
     "name": "stdout",
     "output_type": "stream",
     "text": [
      "completed\n"
     ]
    }
   ],
   "source": [
    "print(result.status)"
   ]
  },
  {
   "cell_type": "code",
   "execution_count": null,
   "metadata": {},
   "outputs": [],
   "source": []
  }
 ],
 "metadata": {
  "kernelspec": {
   "display_name": "luffy",
   "language": "python",
   "name": "luffy"
  },
  "language_info": {
   "codemirror_mode": {
    "name": "ipython",
    "version": 3
   },
   "file_extension": ".py",
   "mimetype": "text/x-python",
   "name": "python",
   "nbconvert_exporter": "python",
   "pygments_lexer": "ipython3",
   "version": "3.8.6"
  }
 },
 "nbformat": 4,
 "nbformat_minor": 4
}
